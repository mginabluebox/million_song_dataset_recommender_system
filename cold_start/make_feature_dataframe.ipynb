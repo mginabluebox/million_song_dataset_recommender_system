{
 "cells": [
  {
   "cell_type": "code",
   "execution_count": 152,
   "id": "voluntary-russian",
   "metadata": {},
   "outputs": [],
   "source": [
    "import os\n",
    "from glob import glob\n",
    "\n",
    "import dask\n",
    "import dask.bag as db\n",
    "import dask.dataframe as dd\n",
    "from distributed import Client\n",
    "from dask_jobqueue import SLURMCluster\n",
    "import pandas as pd \n",
    "import numpy as np\n",
    "\n",
    "from IPython.display import display\n",
    "import matplotlib.pyplot as plt\n",
    "\n",
    "import sqlite3"
   ]
  },
  {
   "cell_type": "code",
   "execution_count": 153,
   "id": "environmental-offer",
   "metadata": {},
   "outputs": [
    {
     "name": "stderr",
     "output_type": "stream",
     "text": [
      "/ext3/miniconda3/lib/python3.8/site-packages/distributed/node.py:151: UserWarning: Port 8787 is already in use.\n",
      "Perhaps you already have a cluster running?\n",
      "Hosting the HTTP server on port 37317 instead\n",
      "  warnings.warn(\n"
     ]
    },
    {
     "data": {
      "application/vnd.jupyter.widget-view+json": {
       "model_id": "58f350cf4839459b8190b8507314c178",
       "version_major": 2,
       "version_minor": 0
      },
      "text/plain": [
       "VBox(children=(HTML(value='<h2>SLURMCluster</h2>'), HBox(children=(HTML(value='\\n<div>\\n  <style scoped>\\n    …"
      ]
     },
     "metadata": {},
     "output_type": "display_data"
    },
    {
     "data": {
      "text/html": [
       "<table style=\"border: 2px solid white;\">\n",
       "<tr>\n",
       "<td style=\"vertical-align: top; border: 0px solid white\">\n",
       "<h3 style=\"text-align: left;\">Client</h3>\n",
       "<ul style=\"text-align: left; list-style: none; margin: 0; padding: 0;\">\n",
       "  <li><b>Scheduler: </b>tcp://10.32.35.14:37099</li>\n",
       "  <li><b>Dashboard: </b><a href='http://10.32.35.14:37317/status' target='_blank'>http://10.32.35.14:37317/status</a></li>\n",
       "</ul>\n",
       "</td>\n",
       "<td style=\"vertical-align: top; border: 0px solid white\">\n",
       "<h3 style=\"text-align: left;\">Cluster</h3>\n",
       "<ul style=\"text-align: left; list-style:none; margin: 0; padding: 0;\">\n",
       "  <li><b>Workers: </b>58</li>\n",
       "  <li><b>Cores: </b>58</li>\n",
       "  <li><b>Memory: </b>116.00 GB</li>\n",
       "</ul>\n",
       "</td>\n",
       "</tr>\n",
       "</table>"
      ],
      "text/plain": [
       "<Client: 'tcp://10.32.35.14:37099' processes=58 threads=58, memory=116.00 GB>"
      ]
     },
     "metadata": {},
     "output_type": "display_data"
    }
   ],
   "source": [
    "# Set LOCAL to True for single-machine execution while developing\n",
    "# Set LOCAL to False for cluster execution\n",
    "LOCAL = False\n",
    "\n",
    "if LOCAL:\n",
    "    # This line creates a single-machine dask client\n",
    "    client = Client()\n",
    "else:    \n",
    "    # This line creates a SLURM cluster dask and dask client\n",
    "    # Logging outputs will be stored in /scratch/{your-netid}\n",
    "    \n",
    "    cluster = SLURMCluster(memory='4GB', cores=2, python='/scratch/work/public/dask/bin/python', \n",
    "                               local_directory='/tmp/{}/'.format(os.environ['SLURM_JOB_USER']),\n",
    "                               job_extra=['--output=/scratch/{}/slurm-%j.out'.format(os.environ['SLURM_JOB_USER'])])\n",
    "\n",
    "    cluster.submit_command = 'slurm'\n",
    "    cluster.scale(100)\n",
    "\n",
    "    display(cluster)\n",
    "    client = Client(cluster)\n",
    "\n",
    "display(client)"
   ]
  },
  {
   "cell_type": "code",
   "execution_count": 154,
   "id": "electric-brighton",
   "metadata": {},
   "outputs": [],
   "source": [
    "public_path = '/scratch/work/public/MillionSongDataset/AdditionalFiles/'"
   ]
  },
  {
   "cell_type": "code",
   "execution_count": 22,
   "id": "short-aircraft",
   "metadata": {},
   "outputs": [
    {
     "data": {
      "text/plain": [
       "['BROKEN_lastfm_tags.db',\n",
       " 'README',\n",
       " 'lastfm_tags.db',\n",
       " 'LICENSE',\n",
       " 'unique_terms.txt',\n",
       " 'artist_term.db',\n",
       " 'artist_location.txt',\n",
       " 'artist_similarity.db',\n",
       " 'mxm_779k_matches.txt',\n",
       " 'sid_mismatches.csv',\n",
       " 'rdio_ids.txt',\n",
       " 'sid_mismatches.txt',\n",
       " 'TRACKIDS.txt',\n",
       " 'msd_summary_file.h5',\n",
       " 'unique_tracks.txt',\n",
       " 'mxm_dataset.db',\n",
       " 'unique_mbtags.txt',\n",
       " 'unique_artists.txt',\n",
       " 'tracks_per_year.txt',\n",
       " 'track_metadata.db']"
      ]
     },
     "execution_count": 22,
     "metadata": {},
     "output_type": "execute_result"
    }
   ],
   "source": [
    "os.listdir(public_path)"
   ]
  },
  {
   "cell_type": "code",
   "execution_count": 8,
   "id": "modern-wrong",
   "metadata": {},
   "outputs": [],
   "source": [
    "# conn = sqlite3.connect(path + '.db')\n",
    "# cur = conn.cursor()\n",
    "# cur.execute(\"SELECT * FROM artist_term LIMIT 1\")\n",
    "# cur.execute(\"\"\"SELECT sql FROM sqlite_master WHERE type='table'\"\"\")\n",
    "# print(cur.fetchall())"
   ]
  },
  {
   "cell_type": "markdown",
   "id": "temporal-harvest",
   "metadata": {},
   "source": [
    "# Save tables to local folder"
   ]
  },
  {
   "cell_type": "code",
   "execution_count": 9,
   "id": "fatal-brook",
   "metadata": {},
   "outputs": [],
   "source": [
    "conn = sqlite3.connect(public_path + 'track_metadata.db')\n",
    "df = pd.read_sql_query(\"SELECT * from songs\", conn).replace([None], np.nan) \n",
    "# df.to_csv('/scratch/tj810/final-project-team_unsupervised_learners/feature_files/track_metadata.csv',index=False)"
   ]
  },
  {
   "cell_type": "code",
   "execution_count": 138,
   "id": "acoustic-fifteen",
   "metadata": {},
   "outputs": [],
   "source": [
    "conn = sqlite3.connect(public_path + 'artist_term.db')\n",
    "df = pd.read_sql_query(\"SELECT * from artist_term\", conn)\\\n",
    "        .replace([None], np.nan)\\\n",
    "        .groupby('artist_id')['term']\\ # combine all terms associated with each artist\n",
    "        .apply(list).reset_index()\n",
    "# df.to_csv('/scratch/tj810/final-project-team_unsupervised_learners/feature_files/artist_term.csv',index=False)"
   ]
  },
  {
   "cell_type": "markdown",
   "id": "reliable-handbook",
   "metadata": {},
   "source": [
    "# Combine all features"
   ]
  },
  {
   "cell_type": "code",
   "execution_count": 155,
   "id": "clean-alfred",
   "metadata": {},
   "outputs": [],
   "source": [
    "local_path = '/scratch/tj810/final-project-team_unsupervised_learners/feature_files/'"
   ]
  },
  {
   "cell_type": "code",
   "execution_count": 156,
   "id": "stainless-albert",
   "metadata": {},
   "outputs": [
    {
     "name": "stderr",
     "output_type": "stream",
     "text": [
      "/ext3/miniconda3/lib/python3.8/site-packages/dask/dataframe/io/csv.py:538: ParserWarning: Falling back to the 'python' engine because the 'c' engine does not support regex separators (separators > 1 char and different from '\\s+' are interpreted as regex); you can avoid this warning by specifying engine='python'.\n",
      "  head = reader(BytesIO(b_sample), **kwargs)\n"
     ]
    }
   ],
   "source": [
    "# features: duration, artist_familiarity, artist_hotttnessss, year\n",
    "# includes track_id, artist_id\n",
    "track_metadata = dd.read_csv(local_path + 'track_metadata.csv', header = 0).repartition(100)\n",
    "\n",
    "# features: artist location (map using artist_id)\n",
    "artist_location = dd.read_csv(public_path+'artist_location.txt',\n",
    "                              sep= '<SEP>',\n",
    "                              header = None, \n",
    "                              names = ['artist_id','latitude','longtitude','artist_name','location'])\n",
    "\n",
    "# features: artist term (map using artist_id)\n",
    "artist_term = dd.read_csv(local_path + 'artist_term.csv', header = 0)"
   ]
  },
  {
   "cell_type": "code",
   "execution_count": 157,
   "id": "regular-thousand",
   "metadata": {},
   "outputs": [
    {
     "name": "stdout",
     "output_type": "stream",
     "text": [
      "Index(['artist_id', 'term'], dtype='object')\n",
      "Index(['artist_id', 'latitude', 'longtitude', 'artist_name', 'location'], dtype='object')\n",
      "Index(['track_id', 'title', 'song_id', 'release', 'artist_id', 'artist_mbid',\n",
      "       'artist_name', 'duration', 'artist_familiarity', 'artist_hotttnesss',\n",
      "       'year'],\n",
      "      dtype='object')\n"
     ]
    }
   ],
   "source": [
    "print(artist_term.columns) # (43943, 2)\n",
    "print(artist_location.columns) # 13850 rows × 5 columns\n",
    "print(track_metadata.columns) # (1000000, 11)"
   ]
  },
  {
   "cell_type": "code",
   "execution_count": 158,
   "id": "usual-amount",
   "metadata": {},
   "outputs": [],
   "source": [
    "artist_features = artist_term.merge(artist_location, how='outer', on = 'artist_id').repartition(npartitions=1)\n",
    "all_features = track_metadata.merge(artist_features, how='left', on = 'artist_id').compute()"
   ]
  },
  {
   "cell_type": "code",
   "execution_count": 167,
   "id": "accredited-recommendation",
   "metadata": {},
   "outputs": [],
   "source": [
    "# all_features.drop(columns='artist_name_y').rename(columns={'artist_name_x':'artist_name'}).reset_index(drop=True).to_csv(local_path + 'all_features.csv')"
   ]
  },
  {
   "cell_type": "code",
   "execution_count": 196,
   "id": "palestinian-republican",
   "metadata": {},
   "outputs": [
    {
     "data": {
      "text/plain": [
       "track_id                                             TRMMMRX128F93187D9\n",
       "title                                                 No One Could Ever\n",
       "song_id                                              SOGTUKN12AB017F4F1\n",
       "release                                                          Butter\n",
       "artist_id                                            ARGEKB01187FB50750\n",
       "artist_mbid                        3d403d44-36ce-465c-ad43-ae877e65adc4\n",
       "artist_name                                              Hudson Mohawke\n",
       "duration                                                      138.97098\n",
       "artist_familiarity                                             0.643681\n",
       "artist_hotttnesss                                              0.437504\n",
       "year                                                               2006\n",
       "term                  ['broken beat', 'hip hop', 'trip hop', 'glitch...\n",
       "latitude                                                        55.8578\n",
       "longtitude                                                     -4.24251\n",
       "location                                              Glasgow, Scotland\n",
       "Name: 2, dtype: object"
      ]
     },
     "execution_count": 196,
     "metadata": {},
     "output_type": "execute_result"
    }
   ],
   "source": [
    "features.loc[2]"
   ]
  },
  {
   "cell_type": "code",
   "execution_count": 203,
   "id": "recognized-nicaragua",
   "metadata": {},
   "outputs": [
    {
     "name": "stdout",
     "output_type": "stream",
     "text": [
      "Number of unique track_id:\n",
      "1000000\n",
      "Number of unique title:\n",
      "702429\n",
      "Number of unique song_id:\n",
      "999056\n",
      "Number of unique release:\n",
      "149289\n",
      "Number of unique artist_id:\n",
      "44745\n",
      "Number of unique artist_mbid:\n",
      "38730\n",
      "Number of unique artist_name:\n",
      "72665\n",
      "Number of unique duration:\n",
      "32145\n",
      "Number of unique artist_familiarity:\n",
      "47218\n",
      "Number of unique artist_hotttnesss:\n",
      "43476\n",
      "Number of unique year:\n",
      "90\n",
      "Number of unique term:\n",
      "43152\n",
      "Number of unique latitude:\n",
      "2640\n",
      "Number of unique longtitude:\n",
      "2643\n",
      "Number of unique location:\n",
      "3990\n"
     ]
    }
   ],
   "source": [
    "# for i in range(features.shape[1]):\n",
    "#     print(f'Number of unique {features.columns[i]}:')\n",
    "#     print(features[features.columns[i]].unique().size)"
   ]
  },
  {
   "cell_type": "code",
   "execution_count": null,
   "id": "bored-tractor",
   "metadata": {},
   "outputs": [],
   "source": [
    "song_hotttnesss\n",
    "loudness\n",
    "mode\n",
    "tempo\n",
    "time_signature\n",
    "time_signature_confidence"
   ]
  },
  {
   "cell_type": "code",
   "execution_count": null,
   "id": "personal-fleet",
   "metadata": {},
   "outputs": [],
   "source": [
    "def get_artistid_trackid_artistname(trackfile):\n",
    "    \"\"\"\n",
    "    Utility function, opens a h5 file, gets the 4 following fields:\n",
    "     - artist Echo Nest ID\n",
    "     - artist Musicbrainz ID\n",
    "     - track Echo Nest ID\n",
    "     - artist name\n",
    "    It is returns as a triple (,,)\n",
    "    Assumes one song per file only!\n",
    "    \"\"\"\n",
    "    h5 = hdf5_utils.open_h5_file_read(trackfile)\n",
    "    assert GETTERS.get_num_songs(h5) == 1,'code must be modified if more than one song per .h5 file'\n",
    "    aid = GETTERS.get_artist_id(h5)\n",
    "    ambid = GETTERS.get_artist_mbid(h5)\n",
    "    tid = GETTERS.get_track_id(h5)\n",
    "    aname = GETTERS.get_artist_name(h5)\n",
    "    h5.close()\n",
    "    return aid,ambid,tid,aname"
   ]
  }
 ],
 "metadata": {
  "kernelspec": {
   "display_name": "Python 3",
   "language": "python",
   "name": "python3"
  },
  "language_info": {
   "codemirror_mode": {
    "name": "ipython",
    "version": 3
   },
   "file_extension": ".py",
   "mimetype": "text/x-python",
   "name": "python",
   "nbconvert_exporter": "python",
   "pygments_lexer": "ipython3",
   "version": "3.8.5"
  }
 },
 "nbformat": 4,
 "nbformat_minor": 5
}
