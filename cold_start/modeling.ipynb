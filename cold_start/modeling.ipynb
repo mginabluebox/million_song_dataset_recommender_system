{
 "cells": [
  {
   "cell_type": "code",
   "execution_count": 1,
   "id": "peripheral-moldova",
   "metadata": {},
   "outputs": [],
   "source": [
    "import os\n",
    "from glob import glob\n",
    "\n",
    "import dask\n",
    "import dask.bag as db\n",
    "import dask.dataframe as dd\n",
    "import dask.array as da\n",
    "from distributed import Client\n",
    "from dask_jobqueue import SLURMCluster\n",
    "import pandas as pd \n",
    "import numpy as np\n",
    "\n",
    "from IPython.display import display\n",
    "import matplotlib.pyplot as plt\n",
    "\n",
    "import ast\n",
    "from tqdm import tqdm \n",
    "from functools import partial"
   ]
  },
  {
   "cell_type": "code",
   "execution_count": 2,
   "id": "affiliated-banner",
   "metadata": {},
   "outputs": [],
   "source": [
    "import dask_ml as dm"
   ]
  },
  {
   "cell_type": "code",
   "execution_count": 3,
   "id": "electric-affiliate",
   "metadata": {},
   "outputs": [],
   "source": [
    "alpha = 40\n",
    "rank = 200\n",
    "regParam = 1\n",
    "maxIter = 20\n",
    "public_path = '/scratch/work/public/MillionSongDataset/AdditionalFiles/'\n",
    "local_path = '/scratch/tj810/final-project-team_unsupervised_learners/feature_files/'\n",
    "indexer_path = '/scratch/tj810/final-project-team_unsupervised_learners/model_outputs/id_mapping/'\n",
    "target_path = f'/scratch/tj810/final-project-team_unsupervised_learners/model_outputs/model_csv/MFImp_a{alpha}r{rank}_reg{regParam}_it{maxIter}/'"
   ]
  },
  {
   "cell_type": "code",
   "execution_count": 4,
   "id": "coordinate-constant",
   "metadata": {
    "scrolled": false
   },
   "outputs": [
    {
     "data": {
      "application/vnd.jupyter.widget-view+json": {
       "model_id": "6ee2e4f491aa4398b9c524ffb9497636",
       "version_major": 2,
       "version_minor": 0
      },
      "text/plain": [
       "VBox(children=(HTML(value='<h2>SLURMCluster</h2>'), HBox(children=(HTML(value='\\n<div>\\n  <style scoped>\\n    …"
      ]
     },
     "metadata": {},
     "output_type": "display_data"
    },
    {
     "data": {
      "text/html": [
       "<table style=\"border: 2px solid white;\">\n",
       "<tr>\n",
       "<td style=\"vertical-align: top; border: 0px solid white\">\n",
       "<h3 style=\"text-align: left;\">Client</h3>\n",
       "<ul style=\"text-align: left; list-style: none; margin: 0; padding: 0;\">\n",
       "  <li><b>Scheduler: </b>tcp://10.32.35.14:37627</li>\n",
       "  <li><b>Dashboard: </b><a href='http://10.32.35.14:8787/status' target='_blank'>http://10.32.35.14:8787/status</a></li>\n",
       "</ul>\n",
       "</td>\n",
       "<td style=\"vertical-align: top; border: 0px solid white\">\n",
       "<h3 style=\"text-align: left;\">Cluster</h3>\n",
       "<ul style=\"text-align: left; list-style:none; margin: 0; padding: 0;\">\n",
       "  <li><b>Workers: </b>0</li>\n",
       "  <li><b>Cores: </b>0</li>\n",
       "  <li><b>Memory: </b>0 B</li>\n",
       "</ul>\n",
       "</td>\n",
       "</tr>\n",
       "</table>"
      ],
      "text/plain": [
       "<Client: 'tcp://10.32.35.14:37627' processes=0 threads=0, memory=0 B>"
      ]
     },
     "metadata": {},
     "output_type": "display_data"
    }
   ],
   "source": [
    "# Set LOCAL to True for single-machine execution while developing\n",
    "# Set LOCAL to False for cluster execution\n",
    "LOCAL = False\n",
    "\n",
    "if LOCAL:\n",
    "    # This line creates a single-machine dask client\n",
    "    client = Client()\n",
    "else:    \n",
    "    # This line creates a SLURM cluster dask and dask client\n",
    "    # Logging outputs will be stored in /scratch/{your-netid}\n",
    "    \n",
    "    cluster = SLURMCluster(memory='4GB', cores=2, python='/scratch/work/public/dask/bin/python', \n",
    "                               local_directory='/tmp/{}/'.format(os.environ['SLURM_JOB_USER']),\n",
    "                               job_extra=['--output=/scratch/{}/slurm-%j.out'.format(os.environ['SLURM_JOB_USER'])])\n",
    "\n",
    "    cluster.submit_command = 'slurm'\n",
    "    cluster.scale(100)\n",
    "\n",
    "    display(cluster)\n",
    "    client = Client(cluster)\n",
    "\n",
    "display(client)"
   ]
  },
  {
   "cell_type": "code",
   "execution_count": 60,
   "id": "ceramic-coffee",
   "metadata": {},
   "outputs": [
    {
     "data": {
      "text/plain": [
       "['BROKEN_lastfm_tags.db',\n",
       " 'README',\n",
       " 'lastfm_tags.db',\n",
       " 'LICENSE',\n",
       " 'unique_terms.txt',\n",
       " 'artist_term.db',\n",
       " 'artist_location.txt',\n",
       " 'artist_similarity.db',\n",
       " 'mxm_779k_matches.txt',\n",
       " 'sid_mismatches.csv',\n",
       " 'rdio_ids.txt',\n",
       " 'sid_mismatches.txt',\n",
       " 'TRACKIDS.txt',\n",
       " 'msd_summary_file.h5',\n",
       " 'unique_tracks.txt',\n",
       " 'mxm_dataset.db',\n",
       " 'unique_mbtags.txt',\n",
       " 'unique_artists.txt',\n",
       " 'tracks_per_year.txt',\n",
       " 'track_metadata.db']"
      ]
     },
     "execution_count": 60,
     "metadata": {},
     "output_type": "execute_result"
    }
   ],
   "source": [
    "os.listdir(public_path)"
   ]
  },
  {
   "cell_type": "markdown",
   "id": "boxed-compiler",
   "metadata": {},
   "source": [
    "(Cached) Attempt to run user-defined function to encode dummies"
   ]
  },
  {
   "cell_type": "code",
   "execution_count": 22,
   "id": "dedicated-western",
   "metadata": {},
   "outputs": [
    {
     "data": {
      "text/plain": [
       "7643"
      ]
     },
     "execution_count": 22,
     "metadata": {},
     "output_type": "execute_result"
    }
   ],
   "source": [
    "# # import unique terms \n",
    "# unique_terms = list(pd.read_csv(public_path + 'unique_terms.txt',header = None)[0].values)\n",
    "# len(unique_terms)"
   ]
  },
  {
   "cell_type": "code",
   "execution_count": 18,
   "id": "egyptian-bernard",
   "metadata": {
    "scrolled": true
   },
   "outputs": [],
   "source": [
    "# # flatten artist_terms to dummy variables\n",
    "# def get_dummy_terms(row):\n",
    "#     terms = row['term']\n",
    "#     if pd.isna(terms):\n",
    "#         return [0] * len(unique_terms)\n",
    "#     else: \n",
    "#         terms = ast.literal_eval(terms)\n",
    "#         return np.array([t in terms for t in unique_terms]) * 1"
   ]
  },
  {
   "cell_type": "code",
   "execution_count": 21,
   "id": "female-collaboration",
   "metadata": {},
   "outputs": [
    {
     "data": {
      "text/html": [
       "<div>\n",
       "<style scoped>\n",
       "    .dataframe tbody tr th:only-of-type {\n",
       "        vertical-align: middle;\n",
       "    }\n",
       "\n",
       "    .dataframe tbody tr th {\n",
       "        vertical-align: top;\n",
       "    }\n",
       "\n",
       "    .dataframe thead th {\n",
       "        text-align: right;\n",
       "    }\n",
       "</style>\n",
       "<table border=\"1\" class=\"dataframe\">\n",
       "  <thead>\n",
       "    <tr style=\"text-align: right;\">\n",
       "      <th></th>\n",
       "      <th>0</th>\n",
       "      <th>1</th>\n",
       "      <th>2</th>\n",
       "      <th>3</th>\n",
       "      <th>4</th>\n",
       "      <th>5</th>\n",
       "      <th>6</th>\n",
       "      <th>7</th>\n",
       "      <th>8</th>\n",
       "      <th>9</th>\n",
       "      <th>...</th>\n",
       "      <th>7633</th>\n",
       "      <th>7634</th>\n",
       "      <th>7635</th>\n",
       "      <th>7636</th>\n",
       "      <th>7637</th>\n",
       "      <th>7638</th>\n",
       "      <th>7639</th>\n",
       "      <th>7640</th>\n",
       "      <th>7641</th>\n",
       "      <th>7642</th>\n",
       "    </tr>\n",
       "  </thead>\n",
       "  <tbody>\n",
       "    <tr>\n",
       "      <th>0</th>\n",
       "      <td>0</td>\n",
       "      <td>0</td>\n",
       "      <td>0</td>\n",
       "      <td>0</td>\n",
       "      <td>0</td>\n",
       "      <td>0</td>\n",
       "      <td>0</td>\n",
       "      <td>0</td>\n",
       "      <td>0</td>\n",
       "      <td>0</td>\n",
       "      <td>...</td>\n",
       "      <td>0</td>\n",
       "      <td>0</td>\n",
       "      <td>0</td>\n",
       "      <td>0</td>\n",
       "      <td>0</td>\n",
       "      <td>0</td>\n",
       "      <td>0</td>\n",
       "      <td>0</td>\n",
       "      <td>0</td>\n",
       "      <td>0</td>\n",
       "    </tr>\n",
       "    <tr>\n",
       "      <th>1</th>\n",
       "      <td>0</td>\n",
       "      <td>0</td>\n",
       "      <td>0</td>\n",
       "      <td>0</td>\n",
       "      <td>0</td>\n",
       "      <td>0</td>\n",
       "      <td>0</td>\n",
       "      <td>0</td>\n",
       "      <td>0</td>\n",
       "      <td>0</td>\n",
       "      <td>...</td>\n",
       "      <td>0</td>\n",
       "      <td>0</td>\n",
       "      <td>0</td>\n",
       "      <td>0</td>\n",
       "      <td>0</td>\n",
       "      <td>0</td>\n",
       "      <td>0</td>\n",
       "      <td>0</td>\n",
       "      <td>0</td>\n",
       "      <td>0</td>\n",
       "    </tr>\n",
       "    <tr>\n",
       "      <th>2</th>\n",
       "      <td>0</td>\n",
       "      <td>0</td>\n",
       "      <td>0</td>\n",
       "      <td>0</td>\n",
       "      <td>0</td>\n",
       "      <td>0</td>\n",
       "      <td>0</td>\n",
       "      <td>0</td>\n",
       "      <td>0</td>\n",
       "      <td>0</td>\n",
       "      <td>...</td>\n",
       "      <td>0</td>\n",
       "      <td>0</td>\n",
       "      <td>0</td>\n",
       "      <td>0</td>\n",
       "      <td>0</td>\n",
       "      <td>0</td>\n",
       "      <td>0</td>\n",
       "      <td>0</td>\n",
       "      <td>0</td>\n",
       "      <td>0</td>\n",
       "    </tr>\n",
       "    <tr>\n",
       "      <th>3</th>\n",
       "      <td>0</td>\n",
       "      <td>0</td>\n",
       "      <td>0</td>\n",
       "      <td>0</td>\n",
       "      <td>0</td>\n",
       "      <td>0</td>\n",
       "      <td>0</td>\n",
       "      <td>0</td>\n",
       "      <td>0</td>\n",
       "      <td>0</td>\n",
       "      <td>...</td>\n",
       "      <td>0</td>\n",
       "      <td>0</td>\n",
       "      <td>0</td>\n",
       "      <td>0</td>\n",
       "      <td>0</td>\n",
       "      <td>0</td>\n",
       "      <td>0</td>\n",
       "      <td>0</td>\n",
       "      <td>0</td>\n",
       "      <td>0</td>\n",
       "    </tr>\n",
       "    <tr>\n",
       "      <th>4</th>\n",
       "      <td>0</td>\n",
       "      <td>0</td>\n",
       "      <td>0</td>\n",
       "      <td>0</td>\n",
       "      <td>0</td>\n",
       "      <td>0</td>\n",
       "      <td>0</td>\n",
       "      <td>0</td>\n",
       "      <td>0</td>\n",
       "      <td>0</td>\n",
       "      <td>...</td>\n",
       "      <td>0</td>\n",
       "      <td>0</td>\n",
       "      <td>0</td>\n",
       "      <td>0</td>\n",
       "      <td>0</td>\n",
       "      <td>0</td>\n",
       "      <td>0</td>\n",
       "      <td>0</td>\n",
       "      <td>0</td>\n",
       "      <td>0</td>\n",
       "    </tr>\n",
       "    <tr>\n",
       "      <th>5</th>\n",
       "      <td>0</td>\n",
       "      <td>0</td>\n",
       "      <td>0</td>\n",
       "      <td>0</td>\n",
       "      <td>0</td>\n",
       "      <td>0</td>\n",
       "      <td>0</td>\n",
       "      <td>0</td>\n",
       "      <td>0</td>\n",
       "      <td>0</td>\n",
       "      <td>...</td>\n",
       "      <td>0</td>\n",
       "      <td>0</td>\n",
       "      <td>0</td>\n",
       "      <td>0</td>\n",
       "      <td>0</td>\n",
       "      <td>0</td>\n",
       "      <td>0</td>\n",
       "      <td>0</td>\n",
       "      <td>0</td>\n",
       "      <td>0</td>\n",
       "    </tr>\n",
       "    <tr>\n",
       "      <th>6</th>\n",
       "      <td>0</td>\n",
       "      <td>0</td>\n",
       "      <td>0</td>\n",
       "      <td>0</td>\n",
       "      <td>0</td>\n",
       "      <td>0</td>\n",
       "      <td>0</td>\n",
       "      <td>0</td>\n",
       "      <td>0</td>\n",
       "      <td>0</td>\n",
       "      <td>...</td>\n",
       "      <td>0</td>\n",
       "      <td>0</td>\n",
       "      <td>0</td>\n",
       "      <td>0</td>\n",
       "      <td>0</td>\n",
       "      <td>0</td>\n",
       "      <td>0</td>\n",
       "      <td>0</td>\n",
       "      <td>0</td>\n",
       "      <td>0</td>\n",
       "    </tr>\n",
       "    <tr>\n",
       "      <th>7</th>\n",
       "      <td>0</td>\n",
       "      <td>0</td>\n",
       "      <td>0</td>\n",
       "      <td>0</td>\n",
       "      <td>0</td>\n",
       "      <td>0</td>\n",
       "      <td>0</td>\n",
       "      <td>0</td>\n",
       "      <td>0</td>\n",
       "      <td>0</td>\n",
       "      <td>...</td>\n",
       "      <td>0</td>\n",
       "      <td>0</td>\n",
       "      <td>0</td>\n",
       "      <td>0</td>\n",
       "      <td>0</td>\n",
       "      <td>0</td>\n",
       "      <td>0</td>\n",
       "      <td>0</td>\n",
       "      <td>0</td>\n",
       "      <td>0</td>\n",
       "    </tr>\n",
       "    <tr>\n",
       "      <th>8</th>\n",
       "      <td>0</td>\n",
       "      <td>0</td>\n",
       "      <td>0</td>\n",
       "      <td>0</td>\n",
       "      <td>0</td>\n",
       "      <td>0</td>\n",
       "      <td>0</td>\n",
       "      <td>0</td>\n",
       "      <td>0</td>\n",
       "      <td>0</td>\n",
       "      <td>...</td>\n",
       "      <td>0</td>\n",
       "      <td>0</td>\n",
       "      <td>0</td>\n",
       "      <td>0</td>\n",
       "      <td>0</td>\n",
       "      <td>0</td>\n",
       "      <td>0</td>\n",
       "      <td>0</td>\n",
       "      <td>0</td>\n",
       "      <td>0</td>\n",
       "    </tr>\n",
       "    <tr>\n",
       "      <th>9</th>\n",
       "      <td>0</td>\n",
       "      <td>0</td>\n",
       "      <td>0</td>\n",
       "      <td>0</td>\n",
       "      <td>0</td>\n",
       "      <td>0</td>\n",
       "      <td>0</td>\n",
       "      <td>0</td>\n",
       "      <td>0</td>\n",
       "      <td>0</td>\n",
       "      <td>...</td>\n",
       "      <td>0</td>\n",
       "      <td>0</td>\n",
       "      <td>0</td>\n",
       "      <td>0</td>\n",
       "      <td>0</td>\n",
       "      <td>0</td>\n",
       "      <td>0</td>\n",
       "      <td>0</td>\n",
       "      <td>0</td>\n",
       "      <td>0</td>\n",
       "    </tr>\n",
       "    <tr>\n",
       "      <th>10</th>\n",
       "      <td>0</td>\n",
       "      <td>0</td>\n",
       "      <td>0</td>\n",
       "      <td>0</td>\n",
       "      <td>0</td>\n",
       "      <td>0</td>\n",
       "      <td>0</td>\n",
       "      <td>0</td>\n",
       "      <td>0</td>\n",
       "      <td>0</td>\n",
       "      <td>...</td>\n",
       "      <td>0</td>\n",
       "      <td>0</td>\n",
       "      <td>0</td>\n",
       "      <td>0</td>\n",
       "      <td>0</td>\n",
       "      <td>0</td>\n",
       "      <td>0</td>\n",
       "      <td>0</td>\n",
       "      <td>0</td>\n",
       "      <td>0</td>\n",
       "    </tr>\n",
       "  </tbody>\n",
       "</table>\n",
       "<p>11 rows × 7643 columns</p>\n",
       "</div>"
      ],
      "text/plain": [
       "    0     1     2     3     4     5     6     7     8     9     ...  7633  \\\n",
       "0      0     0     0     0     0     0     0     0     0     0  ...     0   \n",
       "1      0     0     0     0     0     0     0     0     0     0  ...     0   \n",
       "2      0     0     0     0     0     0     0     0     0     0  ...     0   \n",
       "3      0     0     0     0     0     0     0     0     0     0  ...     0   \n",
       "4      0     0     0     0     0     0     0     0     0     0  ...     0   \n",
       "5      0     0     0     0     0     0     0     0     0     0  ...     0   \n",
       "6      0     0     0     0     0     0     0     0     0     0  ...     0   \n",
       "7      0     0     0     0     0     0     0     0     0     0  ...     0   \n",
       "8      0     0     0     0     0     0     0     0     0     0  ...     0   \n",
       "9      0     0     0     0     0     0     0     0     0     0  ...     0   \n",
       "10     0     0     0     0     0     0     0     0     0     0  ...     0   \n",
       "\n",
       "    7634  7635  7636  7637  7638  7639  7640  7641  7642  \n",
       "0      0     0     0     0     0     0     0     0     0  \n",
       "1      0     0     0     0     0     0     0     0     0  \n",
       "2      0     0     0     0     0     0     0     0     0  \n",
       "3      0     0     0     0     0     0     0     0     0  \n",
       "4      0     0     0     0     0     0     0     0     0  \n",
       "5      0     0     0     0     0     0     0     0     0  \n",
       "6      0     0     0     0     0     0     0     0     0  \n",
       "7      0     0     0     0     0     0     0     0     0  \n",
       "8      0     0     0     0     0     0     0     0     0  \n",
       "9      0     0     0     0     0     0     0     0     0  \n",
       "10     0     0     0     0     0     0     0     0     0  \n",
       "\n",
       "[11 rows x 7643 columns]"
      ]
     },
     "execution_count": 21,
     "metadata": {},
     "output_type": "execute_result"
    }
   ],
   "source": [
    "# feature_dd.loc[:10].apply(get_dummy_terms,axis=1,result_type = 'expand')"
   ]
  },
  {
   "cell_type": "markdown",
   "id": "unusual-signal",
   "metadata": {},
   "source": [
    "Covert track_ids to indices using Spark's StringIndexer output"
   ]
  },
  {
   "cell_type": "code",
   "execution_count": 57,
   "id": "rising-imaging",
   "metadata": {},
   "outputs": [
    {
     "data": {
      "text/plain": [
       "['user_id_mapping.csv', 'track_id_mapping.csv']"
      ]
     },
     "execution_count": 57,
     "metadata": {},
     "output_type": "execute_result"
    }
   ],
   "source": [
    "os.listdir(indexer_path)"
   ]
  },
  {
   "cell_type": "code",
   "execution_count": 207,
   "id": "hungry-bracket",
   "metadata": {},
   "outputs": [],
   "source": [
    "mapping = dd.read_csv(indexer_path + 'track_id_mapping.csv').set_index('track_id').repartition(1000).persist()\n",
    "feature_dd = dd.read_csv(local_path + 'merged_all_features.csv').set_index('track_id').repartition(1000)"
   ]
  },
  {
   "cell_type": "code",
   "execution_count": 208,
   "id": "informational-turkish",
   "metadata": {},
   "outputs": [],
   "source": [
    "mapped = mapping.merge(feature_dd, how='inner',left_index=True,right_index=True).compute()"
   ]
  },
  {
   "cell_type": "code",
   "execution_count": 209,
   "id": "steady-rochester",
   "metadata": {},
   "outputs": [],
   "source": [
    "# mapped.drop(['Unnamed: 0_x','Unnamed: 0_y'],axis=1).to_csv(local_path + 'mapped_all_features_inner.csv')"
   ]
  },
  {
   "cell_type": "code",
   "execution_count": 5,
   "id": "brutal-commonwealth",
   "metadata": {},
   "outputs": [],
   "source": [
    "mapped = pd.read_csv(local_path + 'mapped_all_features_inner.csv',index_col=0)"
   ]
  },
  {
   "cell_type": "code",
   "execution_count": 6,
   "id": "funded-jungle",
   "metadata": {},
   "outputs": [],
   "source": [
    "mapped = mapped.set_index('mapped_id').sort_values('mapped_id')[['term','artist_id','release','duration','year','loudness','tempo']]"
   ]
  },
  {
   "cell_type": "code",
   "execution_count": 7,
   "id": "resistant-culture",
   "metadata": {},
   "outputs": [],
   "source": [
    "target = pd.read_csv(target_path+'expanded_itemFactors.csv',index_col=0)"
   ]
  },
  {
   "cell_type": "code",
   "execution_count": 8,
   "id": "former-fight",
   "metadata": {},
   "outputs": [],
   "source": [
    "# merge features and targets\n",
    "full = mapped.merge(target,how='inner',left_index=True,right_index=True).sort_index().drop_duplicates()"
   ]
  },
  {
   "cell_type": "code",
   "execution_count": 23,
   "id": "bound-radar",
   "metadata": {},
   "outputs": [],
   "source": [
    "# full.to_csv(local_path+'full_features_with_target.csv')"
   ]
  },
  {
   "cell_type": "markdown",
   "id": "inner-projector",
   "metadata": {},
   "source": [
    "Encode artist_id and release using OneHotEncoder"
   ]
  },
  {
   "cell_type": "code",
   "execution_count": 9,
   "id": "piano-aging",
   "metadata": {},
   "outputs": [],
   "source": [
    "from dask_ml.preprocessing import OneHotEncoder"
   ]
  },
  {
   "cell_type": "code",
   "execution_count": 11,
   "id": "center-dairy",
   "metadata": {},
   "outputs": [],
   "source": [
    "shape = full.shape"
   ]
  },
  {
   "cell_type": "code",
   "execution_count": 12,
   "id": "least-radiation",
   "metadata": {},
   "outputs": [],
   "source": [
    "release = da.from_array(full['release'].values,chunks = round(shape[0]/1000)).reshape(-1, 1)\n",
    "artist_id = da.from_array(full['artist_id'].values,chunks=round(shape[0]/1000)).reshape(-1,1)"
   ]
  },
  {
   "cell_type": "code",
   "execution_count": 13,
   "id": "infrared-wealth",
   "metadata": {},
   "outputs": [],
   "source": [
    "release_artist_id = da.concatenate([release,artist_id],axis=1).rechunk(round(shape[0]/1000))"
   ]
  },
  {
   "cell_type": "code",
   "execution_count": 14,
   "id": "random-gender",
   "metadata": {},
   "outputs": [
    {
     "data": {
      "text/html": [
       "<table>\n",
       "<tr>\n",
       "<td>\n",
       "<table>\n",
       "  <thead>\n",
       "    <tr><td> </td><th> Array </th><th> Chunk </th></tr>\n",
       "  </thead>\n",
       "  <tbody>\n",
       "    <tr><th> Bytes </th><td> 6.17 MB </td> <td> 6.16 kB </td></tr>\n",
       "    <tr><th> Shape </th><td> (385371, 2) </td> <td> (385, 2) </td></tr>\n",
       "    <tr><th> Count </th><td> 7007 Tasks </td><td> 1001 Chunks </td></tr>\n",
       "    <tr><th> Type </th><td> object </td><td> numpy.ndarray </td></tr>\n",
       "  </tbody>\n",
       "</table>\n",
       "</td>\n",
       "<td>\n",
       "<svg width=\"75\" height=\"170\" style=\"stroke:rgb(0,0,0);stroke-width:1\" >\n",
       "\n",
       "  <!-- Horizontal lines -->\n",
       "  <line x1=\"0\" y1=\"0\" x2=\"25\" y2=\"0\" style=\"stroke-width:2\" />\n",
       "  <line x1=\"0\" y1=\"6\" x2=\"25\" y2=\"6\" />\n",
       "  <line x1=\"0\" y1=\"12\" x2=\"25\" y2=\"12\" />\n",
       "  <line x1=\"0\" y1=\"18\" x2=\"25\" y2=\"18\" />\n",
       "  <line x1=\"0\" y1=\"25\" x2=\"25\" y2=\"25\" />\n",
       "  <line x1=\"0\" y1=\"31\" x2=\"25\" y2=\"31\" />\n",
       "  <line x1=\"0\" y1=\"37\" x2=\"25\" y2=\"37\" />\n",
       "  <line x1=\"0\" y1=\"44\" x2=\"25\" y2=\"44\" />\n",
       "  <line x1=\"0\" y1=\"50\" x2=\"25\" y2=\"50\" />\n",
       "  <line x1=\"0\" y1=\"56\" x2=\"25\" y2=\"56\" />\n",
       "  <line x1=\"0\" y1=\"63\" x2=\"25\" y2=\"63\" />\n",
       "  <line x1=\"0\" y1=\"69\" x2=\"25\" y2=\"69\" />\n",
       "  <line x1=\"0\" y1=\"75\" x2=\"25\" y2=\"75\" />\n",
       "  <line x1=\"0\" y1=\"82\" x2=\"25\" y2=\"82\" />\n",
       "  <line x1=\"0\" y1=\"88\" x2=\"25\" y2=\"88\" />\n",
       "  <line x1=\"0\" y1=\"94\" x2=\"25\" y2=\"94\" />\n",
       "  <line x1=\"0\" y1=\"100\" x2=\"25\" y2=\"100\" />\n",
       "  <line x1=\"0\" y1=\"107\" x2=\"25\" y2=\"107\" />\n",
       "  <line x1=\"0\" y1=\"113\" x2=\"25\" y2=\"113\" />\n",
       "  <line x1=\"0\" y1=\"120\" x2=\"25\" y2=\"120\" style=\"stroke-width:2\" />\n",
       "\n",
       "  <!-- Vertical lines -->\n",
       "  <line x1=\"0\" y1=\"0\" x2=\"0\" y2=\"120\" style=\"stroke-width:2\" />\n",
       "  <line x1=\"25\" y1=\"0\" x2=\"25\" y2=\"120\" style=\"stroke-width:2\" />\n",
       "\n",
       "  <!-- Colored Rectangle -->\n",
       "  <polygon points=\"0.0,0.0 25.412616514582485,0.0 25.412616514582485,120.0 0.0,120.0\" style=\"fill:#8B4903A0;stroke-width:0\"/>\n",
       "\n",
       "  <!-- Text -->\n",
       "  <text x=\"12.706308\" y=\"140.000000\" font-size=\"1.0rem\" font-weight=\"100\" text-anchor=\"middle\" >2</text>\n",
       "  <text x=\"45.412617\" y=\"60.000000\" font-size=\"1.0rem\" font-weight=\"100\" text-anchor=\"middle\" transform=\"rotate(-90,45.412617,60.000000)\">385371</text>\n",
       "</svg>\n",
       "</td>\n",
       "</tr>\n",
       "</table>"
      ],
      "text/plain": [
       "dask.array<rechunk-merge, shape=(385371, 2), dtype=object, chunksize=(385, 2), chunktype=numpy.ndarray>"
      ]
     },
     "execution_count": 14,
     "metadata": {},
     "output_type": "execute_result"
    }
   ],
   "source": [
    "release_artist_id"
   ]
  },
  {
   "cell_type": "code",
   "execution_count": 15,
   "id": "adolescent-surprise",
   "metadata": {},
   "outputs": [],
   "source": [
    "de = OneHotEncoder()\n",
    "trn = de.fit_transform(release)\n",
    "release_one_hot = trn.compute()"
   ]
  },
  {
   "cell_type": "code",
   "execution_count": 16,
   "id": "bizarre-spending",
   "metadata": {},
   "outputs": [],
   "source": [
    "de = OneHotEncoder()\n",
    "trn = de.fit_transform(artist_id)\n",
    "artist_id_one_hot = trn.compute()"
   ]
  },
  {
   "cell_type": "code",
   "execution_count": 17,
   "id": "relative-cradle",
   "metadata": {},
   "outputs": [],
   "source": [
    "de = OneHotEncoder()\n",
    "trn = de.fit_transform(release_artist_id)\n",
    "release_artist_id_one_hot = trn.compute()"
   ]
  },
  {
   "cell_type": "code",
   "execution_count": 18,
   "id": "green-kingston",
   "metadata": {},
   "outputs": [
    {
     "data": {
      "text/plain": [
       "<385371x112510 sparse matrix of type '<class 'numpy.float64'>'\n",
       "\twith 770742 stored elements in COOrdinate format>"
      ]
     },
     "execution_count": 18,
     "metadata": {},
     "output_type": "execute_result"
    }
   ],
   "source": [
    "release_artist_id_one_hot"
   ]
  },
  {
   "cell_type": "code",
   "execution_count": 19,
   "id": "fitting-behavior",
   "metadata": {},
   "outputs": [],
   "source": [
    "from scipy import sparse"
   ]
  },
  {
   "cell_type": "code",
   "execution_count": 20,
   "id": "brazilian-november",
   "metadata": {},
   "outputs": [],
   "source": [
    "# # larget files are not pushed to github\n",
    "# sparse.save_npz(local_path+\"release_one_hot.npz\", release_one_hot)\n",
    "# sparse.save_npz(local_path+\"artist_id_one_hot.npz\",artist_id_one_hot)\n",
    "# sparse.save_npz(local_path+\"release_artist_id_one_hot.npz\",release_artist_id_one_hot)"
   ]
  },
  {
   "cell_type": "markdown",
   "id": "representative-cincinnati",
   "metadata": {},
   "source": [
    "Impute missing values in features"
   ]
  },
  {
   "cell_type": "code",
   "execution_count": 21,
   "id": "suspended-massachusetts",
   "metadata": {},
   "outputs": [],
   "source": [
    "from sklearn.impute import SimpleImputer"
   ]
  },
  {
   "cell_type": "code",
   "execution_count": 22,
   "id": "blocked-stable",
   "metadata": {},
   "outputs": [],
   "source": [
    "imput = SimpleImputer(missing_values=0.0)"
   ]
  },
  {
   "cell_type": "code",
   "execution_count": 27,
   "id": "coordinated-brooklyn",
   "metadata": {},
   "outputs": [
    {
     "data": {
      "text/plain": [
       "(385371, 3)"
      ]
     },
     "execution_count": 27,
     "metadata": {},
     "output_type": "execute_result"
    }
   ],
   "source": [
    "filled = imput.fit_transform(full[['duration','loudness','tempo']])\n",
    "filled.shape"
   ]
  },
  {
   "cell_type": "code",
   "execution_count": 28,
   "id": "pending-timothy",
   "metadata": {},
   "outputs": [
    {
     "data": {
      "text/plain": [
       "(385371, 112510)"
      ]
     },
     "execution_count": 28,
     "metadata": {},
     "output_type": "execute_result"
    }
   ],
   "source": [
    "release_artist_id = sparse.load_npz(local_path+\"release_artist_id_one_hot.npz\")\n",
    "release_artist_id.shape"
   ]
  },
  {
   "cell_type": "code",
   "execution_count": 29,
   "id": "burning-visit",
   "metadata": {},
   "outputs": [
    {
     "data": {
      "text/plain": [
       "(385371, 112513)"
      ]
     },
     "execution_count": 29,
     "metadata": {},
     "output_type": "execute_result"
    }
   ],
   "source": [
    "all_features = sparse.hstack([release_artist_id,\\\n",
    "                              filled])\n",
    "all_features.shape # release (one hot), artist_id (one hot), duration, loudness, tempo"
   ]
  },
  {
   "cell_type": "code",
   "execution_count": 30,
   "id": "rural-health",
   "metadata": {},
   "outputs": [],
   "source": [
    "# # larget files are not pushed to github\n",
    "# sparse.save_npz(local_path+\"all_features.npz\",all_features)"
   ]
  },
  {
   "cell_type": "markdown",
   "id": "humanitarian-grammar",
   "metadata": {},
   "source": [
    "Train, test split + modeling"
   ]
  },
  {
   "cell_type": "code",
   "execution_count": 31,
   "id": "commercial-numbers",
   "metadata": {},
   "outputs": [
    {
     "data": {
      "text/plain": [
       "['subsample_data.csv',\n",
       " '.itemFactors.csv.crc',\n",
       " '.userFactors.csv.crc',\n",
       " 'sub_item_features_embeded_array.npy',\n",
       " 'sub_item_features_embeded_array_umap.npy',\n",
       " 'sub_item_features_array.npy',\n",
       " 'itemFactors.csv',\n",
       " 'item_features_array.npy',\n",
       " 'userFactors.csv',\n",
       " 'expanded_itemFactors.csv']"
      ]
     },
     "execution_count": 31,
     "metadata": {},
     "output_type": "execute_result"
    }
   ],
   "source": [
    "os.listdir(target_path)"
   ]
  },
  {
   "cell_type": "code",
   "execution_count": 90,
   "id": "sharing-perception",
   "metadata": {},
   "outputs": [],
   "source": [
    "from sklearn.model_selection import train_test_split\n",
    "from sklearn.multioutput import MultiOutputRegressor\n",
    "from sklearn.linear_model import Ridge\n",
    "from sklearn.metrics import mean_squared_error\n",
    "from sklearn.metrics import r2_score"
   ]
  },
  {
   "cell_type": "code",
   "execution_count": 59,
   "id": "powered-foster",
   "metadata": {},
   "outputs": [],
   "source": [
    "target_sparse = sparse.csr_matrix(full[[f'feature_{k}' for k in range(200)]].values)\n",
    "all_features = sparse.load_npz(local_path+\"all_features.npz\")"
   ]
  },
  {
   "cell_type": "code",
   "execution_count": 60,
   "id": "other-while",
   "metadata": {},
   "outputs": [
    {
     "data": {
      "text/plain": [
       "<385371x112513 sparse matrix of type '<class 'numpy.float64'>'\n",
       "\twith 1926855 stored elements in COOrdinate format>"
      ]
     },
     "execution_count": 60,
     "metadata": {},
     "output_type": "execute_result"
    }
   ],
   "source": [
    "all_features"
   ]
  },
  {
   "cell_type": "code",
   "execution_count": 61,
   "id": "convertible-approach",
   "metadata": {},
   "outputs": [
    {
     "data": {
      "text/plain": [
       "<385371x200 sparse matrix of type '<class 'numpy.float64'>'\n",
       "\twith 77074200 stored elements in Compressed Sparse Row format>"
      ]
     },
     "execution_count": 61,
     "metadata": {},
     "output_type": "execute_result"
    }
   ],
   "source": [
    "target_sparse"
   ]
  },
  {
   "cell_type": "code",
   "execution_count": 100,
   "id": "initial-johnston",
   "metadata": {},
   "outputs": [],
   "source": [
    "X, X_test, y, y_test = train_test_split(all_features, target_sparse,test_size=0.2)"
   ]
  },
  {
   "cell_type": "code",
   "execution_count": 101,
   "id": "seven-pastor",
   "metadata": {},
   "outputs": [],
   "source": [
    "X_train, X_val, y_train, y_val = train_test_split(X,y, test_size=0.2)"
   ]
  },
  {
   "cell_type": "code",
   "execution_count": 106,
   "id": "vertical-providence",
   "metadata": {},
   "outputs": [
    {
     "data": {
      "text/plain": [
       "(<246636x112513 sparse matrix of type '<class 'numpy.float64'>'\n",
       " \twith 1233180 stored elements in Compressed Sparse Row format>,\n",
       " <246636x200 sparse matrix of type '<class 'numpy.float64'>'\n",
       " \twith 49327200 stored elements in Compressed Sparse Row format>)"
      ]
     },
     "execution_count": 106,
     "metadata": {},
     "output_type": "execute_result"
    }
   ],
   "source": [
    "X_train, y_train"
   ]
  },
  {
   "cell_type": "code",
   "execution_count": 103,
   "id": "adjacent-stadium",
   "metadata": {
    "scrolled": false
   },
   "outputs": [],
   "source": [
    "alpha = [0,0.001,0.005,0.01,0.05,0.1,0.5,1]\n",
    "mse = []\n",
    "r2 = []\n",
    "for a in alpha:\n",
    "    model = MultiOutputRegressor(Ridge(alpha=a))\n",
    "    model.fit(X_train,y_train.todense())\n",
    "    y_pred = model.predict(X_val)\n",
    "    r2.append(r2_score(y_val.todense(),y_pred))\n",
    "    mse.append(mean_squared_error(y_val.todense(),y_pred))"
   ]
  },
  {
   "cell_type": "code",
   "execution_count": 104,
   "id": "sustained-melissa",
   "metadata": {},
   "outputs": [],
   "source": [
    "import matplotlib.pyplot as plt"
   ]
  },
  {
   "cell_type": "code",
   "execution_count": 124,
   "id": "intended-equation",
   "metadata": {
    "scrolled": false
   },
   "outputs": [
    {
     "data": {
      "image/png": "[encoded data removed]",
      "text/plain": [
       "<Figure size 576x576 with 2 Axes>"
      ]
     },
     "metadata": {
      "needs_background": "light"
     },
     "output_type": "display_data"
    }
   ],
   "source": [
    "fig,ax = plt.subplots(2,1,figsize=(8,8))\n",
    "ax[0].plot(alpha,mse,label = 'MSE on val')\n",
    "ax[1].plot(alpha,r2,label = 'R^2 on val')\n",
    "ax[0].legend()\n",
    "ax[1].legend()\n",
    "plt.show()"
   ]
  },
  {
   "cell_type": "code",
   "execution_count": 125,
   "id": "little-library",
   "metadata": {},
   "outputs": [],
   "source": [
    "best_alpha = alpha[np.argmin(mse)]"
   ]
  },
  {
   "cell_type": "code",
   "execution_count": 129,
   "id": "motivated-blond",
   "metadata": {},
   "outputs": [
    {
     "name": "stdout",
     "output_type": "stream",
     "text": [
      "R^2: 0.3904987834022965, MSE: 0.0007145465980860847\n"
     ]
    }
   ],
   "source": [
    "model = MultiOutputRegressor(Ridge(alpha=best_alpha))\n",
    "model.fit(X,y.todense())\n",
    "y_test_pred = model.predict(X_test)\n",
    "print(f'R^2: {r2_score(y_test.todense(),y_test_pred)}, MSE: {mean_squared_error(y_test.todense(),y_test_pred)}')"
   ]
  },
  {
   "cell_type": "code",
   "execution_count": null,
   "id": "european-press",
   "metadata": {},
   "outputs": [],
   "source": []
  }
 ],
 "metadata": {
  "kernelspec": {
   "display_name": "Python 3",
   "language": "python",
   "name": "python3"
  },
  "language_info": {
   "codemirror_mode": {
    "name": "ipython",
    "version": 3
   },
   "file_extension": ".py",
   "mimetype": "text/x-python",
   "name": "python",
   "nbconvert_exporter": "python",
   "pygments_lexer": "ipython3",
   "version": "3.8.5"
  }
 },
 "nbformat": 4,
 "nbformat_minor": 5
}
