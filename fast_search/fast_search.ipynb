{
 "cells": [
  {
   "cell_type": "code",
   "execution_count": 4,
   "metadata": {},
   "outputs": [],
   "source": [
    "import numpy as np\n",
    "from annoy import AnnoyIndex\n",
    "home_dir = '/Users/mars5566' # change to yours\n",
    "alpha = 40\n",
    "rank = 10\n",
    "regParam = 1\n",
    "maxIter = 20\n",
    "model_dir = f'{home_dir}/model_csv/MFImp_a{alpha}r{rank}_reg{regParam}_it{maxIter}'\n",
    "target_dir = f'{home_dir}/target_csv'\n",
    "\n",
    "user_factor_path = f'{model_dir}/userFactors.csv' \n",
    "item_factor_path = f'{model_dir}/itemFactors.csv'\n",
    "target_path = f'{target_dir}/valid_targets.csv' # validation targets "
   ]
  },
  {
   "cell_type": "code",
   "execution_count": 10,
   "metadata": {},
   "outputs": [],
   "source": [
    "import pandas as pd # change to dask\n",
    "user_df = pd.read_csv(user_factor_path, converters={'features': eval}) # [id: Int, features: Array(Float)]\n",
    "item_df = pd.read_csv(item_factor_path, converters={'features': eval}) # [id: Int, features: Array(Float)]\n",
    "target_df = pd.read_csv(target_path, converters={'tgt_track_id_indices': eval}) # [user_id_index: Int, tgt_id_indices: Array(Int)]\n",
    "target_users = target_df['user_id_index'].tolist()\n",
    "target_user_set = set(target_users)\n",
    "user_features = {row['id']: np.array(row['features']) for index, row in user_df.iterrows() if row['id'] in target_user_set}"
   ]
  },
  {
   "cell_type": "code",
   "execution_count": 51,
   "metadata": {},
   "outputs": [],
   "source": [
    "from numpy.linalg import norm\n",
    "def cosine_similarity(a, b):\n",
    "    return np.dot(a,b)\n",
    "\n",
    "class LinearScanner:\n",
    "    def __init__(self, item_df):\n",
    "        self.item_df = item_df\n",
    "        self.item_df['normalized_features'] = item_df['features'].apply(lambda x: x/norm(x))\n",
    "\n",
    "    def get_nns_by_vector(self, user_feature, k):\n",
    "        user_feature = user_feature/norm(user_feature)\n",
    "        id_scores = [(row['id'], np.dot(user_feature, row['normalized_features']))\n",
    "                     for index, row in self.item_df.iterrows()]\n",
    "        id_scores.sort(key=lambda x: -x[1])\n",
    "        return id_scores[:k]"
   ]
  },
  {
   "cell_type": "code",
   "execution_count": 52,
   "metadata": {},
   "outputs": [],
   "source": [
    "class Retriever:\n",
    "    def __init__(self, retriever_type, feat_dim, item_df):\n",
    "        if retriever_type == 'bruteforce':\n",
    "            self.rt = LinearScanner(item_df)\n",
    "        elif retriever_type == 'annoy':\n",
    "            self.rt = AnnoyIndex(feat_dim, 'angular') \n",
    "            for index, row in item_df.iterrows():\n",
    "                item_id = row['id']\n",
    "                item_feature = np.array(row['features'])\n",
    "                self.rt.add_item(item_id, item_feature)\n",
    "            self.rt.build(feat_dim)\n",
    "\n",
    "    def query(self, user_feature, k):\n",
    "        top_item_ids = self.rt.get_nns_by_vector(user_feature, k)\n",
    "        return top_item_ids\n",
    "\n",
    "    def query_all(self, user_features, k):\n",
    "        all_top_item_ids = []\n",
    "        for user_id, user_feature in user_features.items():\n",
    "            top_item_ids = self.query(user_feature, k)\n",
    "            all_top_item_ids.append(top_item_ids)\n",
    "        return all_top_item_ids"
   ]
  },
  {
   "cell_type": "code",
   "execution_count": 24,
   "metadata": {},
   "outputs": [],
   "source": [
    "annoy_rt = Retriever('annoy', rank, item_df)"
   ]
  },
  {
   "cell_type": "code",
   "execution_count": 25,
   "metadata": {},
   "outputs": [
    {
     "name": "stdout",
     "output_type": "stream",
     "text": [
      "335 ms ± 10.6 ms per loop (mean ± std. dev. of 7 runs, 1 loop each)\n"
     ]
    }
   ],
   "source": [
    "%timeit annoy_rt.query_all(user_features, k=10)"
   ]
  },
  {
   "cell_type": "code",
   "execution_count": 26,
   "metadata": {},
   "outputs": [
    {
     "name": "stdout",
     "output_type": "stream",
     "text": [
      "9.47 s ± 256 ms per loop (mean ± std. dev. of 7 runs, 1 loop each)\n"
     ]
    }
   ],
   "source": [
    "%timeit annoy_rt.query_all(user_features, k=500)"
   ]
  },
  {
   "cell_type": "code",
   "execution_count": 53,
   "metadata": {},
   "outputs": [],
   "source": [
    "bf_rt = Retriever('bruteforce', rank, item_df)"
   ]
  },
  {
   "cell_type": "code",
   "execution_count": 54,
   "metadata": {},
   "outputs": [],
   "source": [
    "user_idx = list(user_features.keys())[0]"
   ]
  },
  {
   "cell_type": "code",
   "execution_count": 55,
   "metadata": {},
   "outputs": [
    {
     "name": "stdout",
     "output_type": "stream",
     "text": [
      "47.7 s ± 222 ms per loop (mean ± std. dev. of 7 runs, 1 loop each)\n"
     ]
    }
   ],
   "source": [
    "%timeit bf_rt.query(user_features[user_idx], k=10) # Just test one user"
   ]
  },
  {
   "cell_type": "code",
   "execution_count": 56,
   "metadata": {},
   "outputs": [
    {
     "name": "stdout",
     "output_type": "stream",
     "text": [
      "48.2 s ± 432 ms per loop (mean ± std. dev. of 7 runs, 1 loop each)\n"
     ]
    }
   ],
   "source": [
    "%timeit bf_rt.query(user_features[user_idx], k=500) # Just test one user"
   ]
  },
  {
   "cell_type": "code",
   "execution_count": 57,
   "metadata": {},
   "outputs": [
    {
     "name": "stdout",
     "output_type": "stream",
     "text": [
      "17.5 µs ± 429 ns per loop (mean ± std. dev. of 7 runs, 100000 loops each)\n"
     ]
    }
   ],
   "source": [
    "%timeit annoy_rt.query(user_features[user_idx], k=10) # Just test one user"
   ]
  },
  {
   "cell_type": "code",
   "execution_count": 58,
   "metadata": {},
   "outputs": [
    {
     "name": "stdout",
     "output_type": "stream",
     "text": [
      "828 µs ± 21.4 µs per loop (mean ± std. dev. of 7 runs, 1000 loops each)\n"
     ]
    }
   ],
   "source": [
    "%timeit annoy_rt.query(user_features[user_idx], k=500) # Just test one user"
   ]
  }
 ],
 "metadata": {
  "kernelspec": {
   "display_name": "Python 3",
   "language": "python",
   "name": "python3"
  },
  "language_info": {
   "codemirror_mode": {
    "name": "ipython",
    "version": 3
   },
   "file_extension": ".py",
   "mimetype": "text/x-python",
   "name": "python",
   "nbconvert_exporter": "python",
   "pygments_lexer": "ipython3",
   "version": "3.7.2"
  }
 },
 "nbformat": 4,
 "nbformat_minor": 4
}
