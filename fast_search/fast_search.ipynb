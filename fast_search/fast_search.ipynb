{
 "cells": [
  {
   "cell_type": "code",
   "execution_count": 50,
   "metadata": {},
   "outputs": [],
   "source": [
    "import numpy as np\n",
    "from annoy import AnnoyIndex\n",
    "import scann\n",
    "home_dir = './' # change to yours\n",
    "alpha = 40\n",
    "rank = 10\n",
    "regParam = 1\n",
    "maxIter = 20\n",
    "model_dir = f'{home_dir}/model_csv/MFImp_a{alpha}r{rank}_reg{regParam}_it{maxIter}'\n",
    "target_dir = f'{home_dir}/target_csv'\n",
    "\n",
    "user_factor_path = f'{model_dir}/userFactors.csv' \n",
    "item_factor_path = f'{model_dir}/itemFactors.csv'\n",
    "target_path = f'{target_dir}/valid_targets.csv' # validation targets "
   ]
  },
  {
   "cell_type": "code",
   "execution_count": 33,
   "metadata": {},
   "outputs": [],
   "source": [
    "import pandas as pd # change to dask\n",
    "user_df = pd.read_csv(user_factor_path, converters={'features': eval}) # [id: Int, features: Array(Float)]\n",
    "item_df = pd.read_csv(item_factor_path, converters={'features': eval}) # [id: Int, features: Array(Float)]\n",
    "target_df = pd.read_csv(target_path, converters={'tgt_track_id_indices': eval}) # [user_id_index: Int, tgt_id_indices: Array(Int)]\n",
    "target_users = target_df['user_id_index'].tolist()\n",
    "target_user_set = set(target_users)\n",
    "\n",
    "user_ids, item_ids = [], []\n",
    "user_features, item_features = [], []\n",
    "for index, row in user_df.iterrows():\n",
    "    if row['id'] in target_user_set:\n",
    "        user_ids.append(row['id'])\n",
    "        user_features.append(row['features'])\n",
    "\n",
    "for index, row in item_df.iterrows():\n",
    "    item_ids.append(row['id'])\n",
    "    item_features.append(row['features'])\n",
    "    \n",
    "user_features = np.vstack(user_features)\n",
    "item_features = np.vstack(item_features)"
   ]
  },
  {
   "cell_type": "code",
   "execution_count": 51,
   "metadata": {},
   "outputs": [],
   "source": [
    "from numpy.linalg import norm\n",
    "class LinearScanner:\n",
    "    def __init__(self, item_features):\n",
    "        self.item_features = item_features\n",
    "\n",
    "    def get_nns_by_vector(self, user_feature, k):\n",
    "        id_scores = [(i, np.dot(user_feature, item_feature))\n",
    "                     for i, item_feature in enumerate(item_features)]\n",
    "        id_scores.sort(key=lambda x: -x[1])\n",
    "        return id_scores[:k]"
   ]
  },
  {
   "cell_type": "code",
   "execution_count": 65,
   "metadata": {},
   "outputs": [],
   "source": [
    "class Retriever:\n",
    "    def __init__(self, retriever_type, item_features, k):\n",
    "        self.k = k\n",
    "        self.retriever_type = retriever_type\n",
    "        if retriever_type == 'bruteforce':\n",
    "            self.rt = LinearScanner(item_features)\n",
    "        elif retriever_type == 'annoy':\n",
    "            feat_dim = item_features.shape[1]\n",
    "            self.rt = AnnoyIndex(feat_dim, 'angular')\n",
    "            for i, item_feature in enumerate(item_features):\n",
    "                self.rt.add_item(i, item_feature)\n",
    "            self.rt.build(feat_dim)\n",
    "        elif retriever_type == 'scann':\n",
    "            normalized_item_features = item_features / norm(item_features, axis=1)[:, np.newaxis]\n",
    "            self.rt = scann.scann_ops_pybind.builder(normalized_item_feat_vecs, self.k, \"dot_product\").tree(\n",
    "                num_leaves=2000, num_leaves_to_search=100, training_sample_size=250000\n",
    "            ).score_ah(2, anisotropic_quantization_threshold=0.2).reorder(self.k*2).build()\n",
    "\n",
    "    def query(self, user_feature):\n",
    "        if self.retriever_type == 'bruteforce' or self.retriever_type == 'annoy':\n",
    "            top_item_ids = self.rt.get_nns_by_vector(user_feature, self.k)\n",
    "        elif self.retriever_type == 'scann':\n",
    "            top_item_ids, distances = self.rt.search_batched([user_feature])\n",
    "        return top_item_ids\n",
    "\n",
    "    def query_all(self, user_features):\n",
    "        all_top_item_ids = []\n",
    "        for user_feature in user_features:\n",
    "            top_item_ids = self.query(user_feature)\n",
    "            all_top_item_ids.append(top_item_ids)\n",
    "        return all_top_item_ids"
   ]
  },
  {
   "cell_type": "code",
   "execution_count": 92,
   "metadata": {},
   "outputs": [],
   "source": [
    "num_test_users = 5\n",
    "k = 10"
   ]
  },
  {
   "cell_type": "code",
   "execution_count": 93,
   "metadata": {},
   "outputs": [],
   "source": [
    "annoy_rt = Retriever('annoy', item_features, k)"
   ]
  },
  {
   "cell_type": "code",
   "execution_count": 94,
   "metadata": {},
   "outputs": [
    {
     "name": "stdout",
     "output_type": "stream",
     "text": [
      "89.7 µs ± 172 ns per loop (mean ± std. dev. of 7 runs, 10000 loops each)\n"
     ]
    }
   ],
   "source": [
    "%timeit annoy_rt.query_all(user_features[:num_test_users])"
   ]
  },
  {
   "cell_type": "code",
   "execution_count": 95,
   "metadata": {},
   "outputs": [],
   "source": [
    "bf_rt = Retriever('bruteforce', item_features, k)"
   ]
  },
  {
   "cell_type": "code",
   "execution_count": 96,
   "metadata": {},
   "outputs": [
    {
     "name": "stdout",
     "output_type": "stream",
     "text": [
      "6.66 s ± 46.3 ms per loop (mean ± std. dev. of 7 runs, 1 loop each)\n"
     ]
    }
   ],
   "source": [
    "%timeit bf_rt.query_all(user_features[:num_test_users])"
   ]
  },
  {
   "cell_type": "code",
   "execution_count": 97,
   "metadata": {},
   "outputs": [],
   "source": [
    "scann_rt = Retriever('scann', item_features, k)"
   ]
  },
  {
   "cell_type": "code",
   "execution_count": 98,
   "metadata": {},
   "outputs": [
    {
     "name": "stdout",
     "output_type": "stream",
     "text": [
      "557 µs ± 1.89 µs per loop (mean ± std. dev. of 7 runs, 1000 loops each)\n"
     ]
    }
   ],
   "source": [
    "%timeit scann_rt.query_all(user_features[:num_test_users])"
   ]
  },
  {
   "cell_type": "code",
   "execution_count": 99,
   "metadata": {},
   "outputs": [],
   "source": [
    "num_test_users = 5\n",
    "k = 500"
   ]
  },
  {
   "cell_type": "code",
   "execution_count": 100,
   "metadata": {},
   "outputs": [],
   "source": [
    "annoy_rt = Retriever('annoy', item_features, k)"
   ]
  },
  {
   "cell_type": "code",
   "execution_count": 101,
   "metadata": {},
   "outputs": [
    {
     "name": "stdout",
     "output_type": "stream",
     "text": [
      "3.68 ms ± 27.2 µs per loop (mean ± std. dev. of 7 runs, 100 loops each)\n"
     ]
    }
   ],
   "source": [
    "%timeit annoy_rt.query_all(user_features[:num_test_users])"
   ]
  },
  {
   "cell_type": "code",
   "execution_count": 102,
   "metadata": {},
   "outputs": [],
   "source": [
    "bf_rt = Retriever('bruteforce', item_features, k)"
   ]
  },
  {
   "cell_type": "code",
   "execution_count": 103,
   "metadata": {},
   "outputs": [
    {
     "name": "stdout",
     "output_type": "stream",
     "text": [
      "6.65 s ± 74.7 ms per loop (mean ± std. dev. of 7 runs, 1 loop each)\n"
     ]
    }
   ],
   "source": [
    "%timeit bf_rt.query_all(user_features[:num_test_users])"
   ]
  },
  {
   "cell_type": "code",
   "execution_count": 104,
   "metadata": {},
   "outputs": [],
   "source": [
    "scann_rt = Retriever('scann', item_features, k)"
   ]
  },
  {
   "cell_type": "code",
   "execution_count": 105,
   "metadata": {},
   "outputs": [
    {
     "name": "stdout",
     "output_type": "stream",
     "text": [
      "1.15 ms ± 3.01 µs per loop (mean ± std. dev. of 7 runs, 1000 loops each)\n"
     ]
    }
   ],
   "source": [
    "%timeit scann_rt.query_all(user_features[:num_test_users])"
   ]
  }
 ],
 "metadata": {
  "kernelspec": {
   "display_name": "Python 3",
   "language": "python",
   "name": "python3"
  },
  "language_info": {
   "codemirror_mode": {
    "name": "ipython",
    "version": 3
   },
   "file_extension": ".py",
   "mimetype": "text/x-python",
   "name": "python",
   "nbconvert_exporter": "python",
   "pygments_lexer": "ipython3",
   "version": "3.8.6"
  }
 },
 "nbformat": 4,
 "nbformat_minor": 4
}
